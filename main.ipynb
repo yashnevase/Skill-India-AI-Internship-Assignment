from Add_Product import add_product
from Purchasing_Product import purchasing_product
from Print_Inventory import print_inventory

# create a function to exit the program
def exit_program():
    print("Thank you!")
    # exit the program
    exit()


# create a function to print out the menu
def print_menu():
    # print out the menu
    print("1. Add a New Product")
    print("2. Buy a Product")
    print("3. Print the inventory")
    print("4. Exit")


# create a function to get the user's choice
def get_choice():
    # ask the user for the choice
    choice = int(input("Enter your choice: "))
    # check if the choice is one of the menu options
    if choice in menu:
        # return the choice
        return choice
    else:
        print("The choice is invalid.")
        # return None
        return None


# create a dictionary to store the menu options
menu = {1: add_product, 2: purchasing_product, 3: print_inventory, 4: exit_program}

# print out the menu
print_menu()

# get the user's choice
choice = get_choice()

# while the choice is not to exit
while choice != 4:
    # execute the menu option
    menu[choice]()
    # print out the menu
    print_menu()
    # get the user's choice
    choice = get_choice()
