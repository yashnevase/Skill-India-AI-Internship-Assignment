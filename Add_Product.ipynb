#Add a Product and update a Inventory

import json


def add_product():
    fd = open("inventory.json",'r')
    r = fd.read()
    fd.close()

    record = json.loads(r)

    prod_id = str(input("Enter product id:"))
    if prod_id in record :
      print("Please enter quantity for the Product ID entered")
      prod_qn = int(input("Enter Quantity to be changed : "))

      record[prod_id]['qn'] = prod_qn
      print("Product Quantity succesfuly updated to : ", record[prod_id]['qn'])
    else : 
      name = str(input("Enter name:"))
      md = str(input("Enter Manufacturing Date : "))
      ed = str(input("Enter Expiry Date : "))
      pr = int(input("Enter price:"))
      qn = int(input("Enter quantity:"))

      record[prod_id] = {'name': name,'md' :md, 'ed' : ed, 'pr': pr, 'qn': qn}

    js = json.dumps(record)

    fd = open("inventory.json",'w')
    fd.write(js)
    fd.close()