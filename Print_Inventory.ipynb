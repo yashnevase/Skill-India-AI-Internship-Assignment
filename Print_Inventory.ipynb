#Purchasing a Product and updating the inventory with the newly changed quanitity

import json

def print_inventory():
    fd = open("inventory.json",'r')
    r = fd.read()
    fd.close()

    records = json.loads(r)
    print(records)