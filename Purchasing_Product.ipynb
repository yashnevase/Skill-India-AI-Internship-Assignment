#Purchasing a Product and updating the inventory with the newly changed quanitity

import json
from Print_Inventory import print_inventory

def purchasing_product():
    fd = open("inventory.json",'r')
    r = fd.read()
    fd.close()
    records = json.loads(r)

    ui_prod  = str(input("Enter the product_Id: "))
    ui_quant = int(input("Enter the quantity: "))

    if records[ui_prod]['qn'] >= ui_quant :
      print("Product: ", records[ui_prod]['name'])
      print("Manufacturing Date : ", records[ui_prod]['md'])
      print("Expiry Date : ", records[ui_prod]['ed'])
      print("Price: ", records[ui_prod]['pr'])
      print("Billing Amount: ", records[ui_prod]['pr'] * ui_quant)
      records[ui_prod]['qn'] = records[ui_prod]['qn'] - ui_quant

      js = json.dumps(records)

      fd = open("inventory.json",'w')
      fd.write(js)
      fd.close()

      amount = records[ui_prod]['pr'] * ui_quant

      print("Product ID: {}, Product Quantity: {}, Amount: {}".format(ui_prod, ui_quant, amount))
      print("Inventory : ")
      print_inventory()

    else :
      print("We do not have enough stock to fullfil your request.")